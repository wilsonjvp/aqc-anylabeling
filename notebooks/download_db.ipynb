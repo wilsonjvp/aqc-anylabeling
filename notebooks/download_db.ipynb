{
 "cells": [
  {
   "cell_type": "code",
   "execution_count": 1,
   "metadata": {},
   "outputs": [],
   "source": [
    "import pandas as pd\n",
    "import json\n",
    "import numpy as np\n",
    "import os\n",
    "import hashlib\n",
    "import psycopg\n",
    "from sqlalchemy import create_engine\n",
    "from sqlalchemy import URL\n",
    "from dotenv import load_dotenv"
   ]
  },
  {
   "cell_type": "markdown",
   "metadata": {},
   "source": [
    "## DB Connection"
   ]
  },
  {
   "cell_type": "code",
   "execution_count": 2,
   "metadata": {},
   "outputs": [],
   "source": [
    "# Load DB variables\n",
    "load_dotenv()\n",
    "DATABASE = os.getenv(\"PROD_DATABASE\")\n",
    "USER = os.getenv(\"PROD_USER\")\n",
    "PASSWORD = os.getenv(\"PROD_PASSWORD\")\n",
    "HOST = os.getenv(\"PROD_HOST\")\n",
    "PORT = os.getenv(\"PROD_PORT\")"
   ]
  },
  {
   "cell_type": "code",
   "execution_count": 3,
   "metadata": {},
   "outputs": [],
   "source": [
    "# Connection to DB\n",
    "url_object = URL.create(\n",
    "            \"postgresql+psycopg\",\n",
    "            username=USER,\n",
    "            password=PASSWORD,\n",
    "            host=HOST,\n",
    "            port=PORT,\n",
    "            database=DATABASE,\n",
    "        )\n",
    "\n",
    "alchemyEngine = create_engine(url_object)\n",
    "\n",
    "dbConnection = alchemyEngine.connect()"
   ]
  },
  {
   "cell_type": "code",
   "execution_count": 4,
   "metadata": {},
   "outputs": [],
   "source": [
    "# Reading Tables from DB\n",
    "df_roll = pd.read_sql('select * from \"Rolls\"', dbConnection)\n",
    "df_machine = pd.read_sql('select * from \"Machines\"', dbConnection)\n",
    "df_tiles = pd.read_sql('select * from \"Tiles\"', dbConnection)\n",
    "df_defects = pd.read_sql('select * from \"DefectTiles\"', dbConnection)"
   ]
  },
  {
   "cell_type": "code",
   "execution_count": 5,
   "metadata": {},
   "outputs": [],
   "source": [
    "# Close DB connection\n",
    "dbConnection.close()"
   ]
  },
  {
   "cell_type": "code",
   "execution_count": 6,
   "metadata": {},
   "outputs": [],
   "source": [
    "# Modifying defects table\n",
    "df_defects['ShapePointsX'] = df_defects['ShapePointsX'].replace('{', '[', regex=True).replace('}', ']', regex=True)\n",
    "df_defects['ShapePointsY'] = df_defects['ShapePointsY'].replace('{', '[', regex=True).replace('}', ']', regex=True)\n",
    "df_defects = df_defects[df_defects[\"CreatedBy\"] == \"operator\"]\n",
    "df_defects.reset_index(drop= True, inplace=True) "
   ]
  },
  {
   "cell_type": "code",
   "execution_count": 7,
   "metadata": {},
   "outputs": [],
   "source": [
    "# Save files to local\n",
    "os.makedirs(\"../db\", exist_ok=True)\n",
    "\n",
    "path_roll = \"../db/rolls.csv\"\n",
    "path_machine = \"../db/machines.csv\"\n",
    "path_tiles = \"../db/tiles.csv\"\n",
    "path_defects = \"../db/defects.csv\""
   ]
  },
  {
   "cell_type": "code",
   "execution_count": 8,
   "metadata": {},
   "outputs": [],
   "source": [
    "# Save tables as csv\n",
    "df_roll.to_csv(path_roll)\n",
    "df_machine.to_csv(path_machine)\n",
    "df_tiles.to_csv(path_tiles)\n",
    "df_defects.to_csv(path_defects)"
   ]
  },
  {
   "cell_type": "code",
   "execution_count": null,
   "metadata": {},
   "outputs": [],
   "source": []
  }
 ],
 "metadata": {
  "kernelspec": {
   "display_name": "aqc-augmentation-logic-8oIqDdhq",
   "language": "python",
   "name": "python3"
  },
  "language_info": {
   "codemirror_mode": {
    "name": "ipython",
    "version": 3
   },
   "file_extension": ".py",
   "mimetype": "text/x-python",
   "name": "python",
   "nbconvert_exporter": "python",
   "pygments_lexer": "ipython3",
   "version": "3.9.12"
  }
 },
 "nbformat": 4,
 "nbformat_minor": 2
}
